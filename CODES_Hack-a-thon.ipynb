{
 "cells": [
  {
   "cell_type": "code",
   "execution_count": 1,
   "metadata": {},
   "outputs": [],
   "source": [
    "# IMPORTING LIBRARIES \n",
    "import pandas as pd\n",
    "import numpy as np\n",
    "import matplotlib.pyplot as plt\n",
    "import statsmodels.api as sm \n",
    "from sklearn.linear_model import Lasso\n",
    "from sklearn.linear_model import Ridge\n",
    "from sklearn.compose import ColumnTransformer\n",
    "from sklearn.preprocessing import OneHotEncoder\n",
    "from sklearn.metrics import mean_squared_error as mse\n",
    "from sklearn.metrics import r2_score"
   ]
  },
  {
   "cell_type": "code",
   "execution_count": 2,
   "metadata": {},
   "outputs": [],
   "source": [
    "# IMPORTING DATASET\n",
    "data = pd.read_excel(\"Data.xlsx\")"
   ]
  },
  {
   "cell_type": "code",
   "execution_count": null,
   "metadata": {},
   "outputs": [],
   "source": [
    "#Creating a seperate test set for the outliers \n",
    "#Seperating entries where Gross Turnover and Discount Total are zero for predicting with champion model\n",
    "#It is assumed that the entries where product volume is positive and discount offered is zero indicate underfitting of\n",
    "#of total discount. \n",
    "S1 = data[data['Discount_Total']>data['Discount_Total'].std()*3]\n",
    "S2 = data[data['Discount Percentage ']>data['Discount Percentage '].std()*3]\n",
    "S3 = data[data['GTO_2019']>data['GTO_2019'].std()*3]\n",
    "S4 = data[data['Discount_Total']<=0]\n",
    "S5 = data[data['GTO_2019']<=0]\n",
    "ts1 = S1.append(S2)\n",
    "ts2 = ts1.append(S3)\n",
    "ts3 = ts2.append(S4)\n",
    "Test_Set = ts3.append(S5)\n",
    "Test_Set = Test_Set.drop_duplicates()"
   ]
  },
  {
   "cell_type": "code",
   "execution_count": 4,
   "metadata": {},
   "outputs": [
    {
     "name": "stdout",
     "output_type": "stream",
     "text": [
      "Ship-to ID                    int64\n",
      "Volume_2019                 float64\n",
      "Volume_2018                 float64\n",
      "sfdc_tier                    object\n",
      "poc_image                    object\n",
      "segment                      object\n",
      "sub_segment                  object\n",
      "Product_Set                  object\n",
      "Brand                        object\n",
      "Sub_Brand                    object\n",
      "Pack_Type                    object\n",
      "Returnalility                object\n",
      "GTO_2019                    float64\n",
      "OnInvoice Discount(LCU)     float64\n",
      "OffInvoice Discount(LCU)    float64\n",
      "Volume_2019_Product         float64\n",
      "Tax                         float64\n",
      "province                     object\n",
      "Discount_Total              float64\n",
      "Discount Percentage         float64\n",
      "dtype: object\n"
     ]
    }
   ],
   "source": [
    "print(data.dtypes)"
   ]
  },
  {
   "cell_type": "code",
   "execution_count": 5,
   "metadata": {},
   "outputs": [],
   "source": [
    "#Removing the outliers and negative values\n",
    "data = data[data['Discount_Total']<data['Discount_Total'].std()*3]\n",
    "data = data[data['Discount Percentage ']<data['Discount Percentage '].std()*3]\n",
    "data = data[data['GTO_2019']<data['GTO_2019'].std()*3]\n",
    "data = data[data['Discount_Total']>0]\n",
    "data = data[data['GTO_2019']>0]"
   ]
  },
  {
   "cell_type": "code",
   "execution_count": 6,
   "metadata": {},
   "outputs": [
    {
     "data": {
      "image/png": "[encoded data removed]",
      "text/plain": [
       "<Figure size 432x288 with 1 Axes>"
      ]
     },
     "metadata": {
      "needs_background": "light"
     },
     "output_type": "display_data"
    }
   ],
   "source": [
    "#METHOD 1\n",
    "#K means clustering model\n",
    "#Clustering is done on the basis on the basis of product set volume to group customers on the basis of order volumes\n",
    "v = data['Volume_2019_Product']\n",
    "v = data['Volume_2019_Product']\n",
    "v = pd.DataFrame(v)\n",
    "from sklearn.preprocessing import StandardScaler\n",
    "scaler = StandardScaler()\n",
    "scaler.fit(v)\n",
    "V = scaler.transform(v)\n",
    "\n",
    "from sklearn.cluster import KMeans\n",
    "wcss = []\n",
    "for i in range(1, 11):\n",
    "    kmeans = KMeans(n_clusters = i, init = 'k-means++', random_state = 42)\n",
    "    kmeans.fit(V)\n",
    "    wcss.append(kmeans.inertia_)\n",
    "plt.plot(range(1, 11), wcss)\n",
    "plt.title('The Elbow Method')\n",
    "plt.xlabel('Number of clusters')\n",
    "plt.ylabel('WCSS')\n",
    "plt.show()\n",
    "\n",
    "kmeans = KMeans(n_clusters = 4, init = 'k-means++', random_state = 42)\n",
    "y_kmeans = kmeans.fit_predict(V)\n",
    "data['Cluster'] = pd.Series(y_kmeans, index=data.index)"
   ]
  },
  {
   "cell_type": "code",
   "execution_count": 7,
   "metadata": {},
   "outputs": [],
   "source": [
    "#Clusters generated from K-means clustering algorithm are treated as categorical variable and encoded as dummy variables \n",
    "X0 = data[['sfdc_tier', 'sub_segment', 'Cluster', 'Volume_2019_Product']]\n",
    "ct = ColumnTransformer(transformers=[('encoder', OneHotEncoder(), [2])], \n",
    "                        remainder='passthrough')\n",
    "x0 = np.array(ct.fit_transform(X0))\n",
    "x0 = pd.DataFrame(x0)\n",
    "x0.columns = ['Cluster1', 'Cluster2', 'Cluster3', 'Cluster4', 'sfdc_tier',\n",
    "              'sub_segment', 'Volume_2019_Product']\n",
    "dummies0 = pd.get_dummies(data = x0 [['sfdc_tier', 'sub_segment']])\n",
    "vol = x0[['Volume_2019_Product', 'Cluster1', 'Cluster2', 'Cluster3', 'Cluster4']]\n",
    "X0 = pd.concat([vol, dummies0], axis =1)\n",
    "X0 = X0.astype(float)\n",
    "Y = data['Discount_Total']\n",
    "Y0 = pd.Series.reset_index(Y)\n",
    "Y0 = Y0.drop(['index'], axis =1)\n",
    "Y0 = Y0.astype(float)"
   ]
  },
  {
   "cell_type": "code",
   "execution_count": 8,
   "metadata": {},
   "outputs": [],
   "source": [
    "#dataset splitting \n",
    "from sklearn.model_selection import train_test_split\n",
    "x0_train, x0_test, y0_train, y0_test = train_test_split(X0, Y0, test_size = 0.2, random_state = 0)"
   ]
  },
  {
   "cell_type": "code",
   "execution_count": 9,
   "metadata": {},
   "outputs": [
    {
     "name": "stdout",
     "output_type": "stream",
     "text": [
      "                            OLS Regression Results                            \n",
      "==============================================================================\n",
      "Dep. Variable:         Discount_Total   R-squared:                       0.692\n",
      "Model:                            OLS   Adj. R-squared:                  0.691\n",
      "Method:                 Least Squares   F-statistic:                     2875.\n",
      "Date:                Sun, 09 May 2021   Prob (F-statistic):               0.00\n",
      "Time:                        01:23:56   Log-Likelihood:            -1.9325e+05\n",
      "No. Observations:               25656   AIC:                         3.865e+05\n",
      "Df Residuals:                   25635   BIC:                         3.867e+05\n",
      "Df Model:                          20                                         \n",
      "Covariance Type:            nonrobust                                         \n",
      "==============================================================================================\n",
      "                                 coef    std err          t      P>|t|      [0.025      0.975]\n",
      "----------------------------------------------------------------------------------------------\n",
      "Volume_2019_Product           69.1695      1.117     61.931      0.000      66.980      71.359\n",
      "Cluster1                      80.1673     19.181      4.179      0.000      42.571     117.764\n",
      "Cluster2                    -530.6257     54.014     -9.824      0.000    -636.496    -424.756\n",
      "Cluster3                     137.7299     22.523      6.115      0.000      93.583     181.876\n",
      "Cluster4                     216.3646     12.678     17.066      0.000     191.514     241.215\n",
      "sfdc_tier_Tier 0             -53.4402     19.465     -2.745      0.006     -91.592     -15.288\n",
      "sfdc_tier_Tier 1             -31.2907     18.929     -1.653      0.098     -68.393       5.812\n",
      "sfdc_tier_Tier 2             -11.6331     18.685     -0.623      0.534     -48.257      24.991\n",
      "sub_segment_Bar              -90.9295     18.367     -4.951      0.000    -126.929     -54.930\n",
      "sub_segment_Beer bar         -91.8990     19.019     -4.832      0.000    -129.177     -54.621\n",
      "sub_segment_Cocktail Bar     -56.0671     40.611     -1.381      0.167    -135.667      23.533\n",
      "sub_segment_Events           -98.4590     25.414     -3.874      0.000    -148.272     -48.646\n",
      "sub_segment_Hybrid            54.2932     18.901      2.873      0.004      17.247      91.340\n",
      "sub_segment_Institutional     70.1343     21.173      3.312      0.001      28.634     111.635\n",
      "sub_segment_Local Bar       -202.6577    114.820     -1.765      0.078    -427.712      22.397\n",
      "sub_segment_Music Venue      374.2049     37.744      9.914      0.000     300.225     448.185\n",
      "sub_segment_Not applicable   -58.3508    151.044     -0.386      0.699    -354.406     237.705\n",
      "sub_segment_Party Place       -8.9051     27.077     -0.329      0.742     -61.977      44.167\n",
      "sub_segment_Quick Dining     173.8080     26.662      6.519      0.000     121.549     226.068\n",
      "sub_segment_Recreational       6.0194     26.837      0.224      0.823     -46.582      58.621\n",
      "sub_segment_Restaurant       -32.8167     19.613     -1.673      0.094     -71.260       5.627\n",
      "sub_segment_Sports Venue     -54.9931     21.080     -2.609      0.009     -96.311     -13.676\n",
      "sub_segment_Sub Agent        -79.7458    190.600     -0.418      0.676    -453.332     293.841\n",
      "==============================================================================\n",
      "Omnibus:                    21452.272   Durbin-Watson:                   2.010\n",
      "Prob(Omnibus):                  0.000   Jarque-Bera (JB):          3314629.565\n",
      "Skew:                           3.323   Prob(JB):                         0.00\n",
      "Kurtosis:                      58.286   Cond. No.                     6.23e+15\n",
      "==============================================================================\n",
      "\n",
      "Notes:\n",
      "[1] Standard Errors assume that the covariance matrix of the errors is correctly specified.\n",
      "[2] The smallest eigenvalue is 8.24e-26. This might indicate that there are\n",
      "strong multicollinearity problems or that the design matrix is singular.\n"
     ]
    }
   ],
   "source": [
    "#Linear Regression Model (Model 0.1)\n",
    "model0 = sm.OLS(y0_train,x0_train).fit()\n",
    "print(model0.summary())\n",
    "Y_pred00 = model0.predict(x0_train)\n",
    "YP00 = model0.predict(x0_test)"
   ]
  },
  {
   "cell_type": "code",
   "execution_count": 10,
   "metadata": {},
   "outputs": [
    {
     "name": "stderr",
     "output_type": "stream",
     "text": [
      "<ipython-input-10-ad552c7cd082>:4: DataConversionWarning: A column-vector y was passed when a 1d array was expected. Please change the shape of y to (n_samples,), for example using ravel().\n",
      "  regressor0.fit(x0_train, y0_train)\n"
     ]
    }
   ],
   "source": [
    "#Random Forest Regression model (Model 0.2)\n",
    "from sklearn.ensemble import RandomForestRegressor\n",
    "regressor0 = RandomForestRegressor(n_estimators = 10, random_state = 0)\n",
    "regressor0.fit(x0_train, y0_train)\n",
    "Y_pred01 = regressor0.predict(x0_train)\n",
    "YP01 = regressor0.predict(x0_test)"
   ]
  },
  {
   "cell_type": "code",
   "execution_count": 11,
   "metadata": {},
   "outputs": [],
   "source": [
    "#LASSO regression model (Model 0.3)\n",
    "model0_3 = Lasso()\n",
    "model0_3.fit(x0_train, y0_train)\n",
    "Y_pred02 = model0_3.predict(x0_train)\n",
    "YP02 = model0_3.predict(x0_test)"
   ]
  },
  {
   "cell_type": "code",
   "execution_count": 12,
   "metadata": {},
   "outputs": [],
   "source": [
    "#Ridge Regression model (Model 0.4)\n",
    "model0_4 = Ridge()\n",
    "model0_4.fit(x0_train, y0_train)\n",
    "Y_pred03 = model0_4.predict(x0_train)\n",
    "YP03 = model0_4.predict(x0_test)"
   ]
  },
  {
   "cell_type": "code",
   "execution_count": 13,
   "metadata": {},
   "outputs": [
    {
     "name": "stdout",
     "output_type": "stream",
     "text": [
      "<class 'pandas.core.frame.DataFrame'>\n",
      "Int64Index: 32071 entries, 3 to 39854\n",
      "Columns: 157 entries, Volume_2019_Product to Product_Set_RETURNABLE_PERFECTDRAFT_TRIPEL KARMELIET_TRIPEL KARMELIET\n",
      "dtypes: float64(1), uint8(156)\n",
      "memory usage: 5.3 MB\n"
     ]
    }
   ],
   "source": [
    "#METHOD 2\n",
    "#Model with all the variables included \n",
    "#Creating Dummy variables and X & Y\n",
    "X = data[['sfdc_tier', 'poc_image', 'sub_segment', 'Product_Set','Volume_2019_Product']]\n",
    "dummies = pd.get_dummies(X[['sfdc_tier', 'poc_image', 'sub_segment','Product_Set']])\n",
    "X = data['Volume_2019_Product']\n",
    "X = pd.concat([X, dummies], axis=1)\n",
    "X.info()\n",
    "Y = data['Discount_Total']"
   ]
  },
  {
   "cell_type": "code",
   "execution_count": 14,
   "metadata": {},
   "outputs": [],
   "source": [
    "#Splitting the data into training set and validation set\n",
    "from sklearn.model_selection import train_test_split\n",
    "x_train, x_test, y_train, y_test = train_test_split(X, Y, test_size = 0.2, random_state = 0)"
   ]
  },
  {
   "cell_type": "code",
   "execution_count": 15,
   "metadata": {},
   "outputs": [
    {
     "name": "stdout",
     "output_type": "stream",
     "text": [
      "                            OLS Regression Results                            \n",
      "==============================================================================\n",
      "Dep. Variable:         Discount_Total   R-squared:                       0.705\n",
      "Model:                            OLS   Adj. R-squared:                  0.703\n",
      "Method:                 Least Squares   F-statistic:                     403.8\n",
      "Date:                Sun, 09 May 2021   Prob (F-statistic):               0.00\n",
      "Time:                        01:24:22   Log-Likelihood:            -1.9268e+05\n",
      "No. Observations:               25656   AIC:                         3.857e+05\n",
      "Df Residuals:                   25504   BIC:                         3.869e+05\n",
      "Df Model:                         151                                         \n",
      "Covariance Type:            nonrobust                                         \n",
      "===========================================================================================================================================\n",
      "                                                                              coef    std err          t      P>|t|      [0.025      0.975]\n",
      "-------------------------------------------------------------------------------------------------------------------------------------------\n",
      "Volume_2019_Product                                                        69.2578      0.369    187.691      0.000      68.534      69.981\n",
      "sfdc_tier_Tier 0                                                           22.5890     14.923      1.514      0.130      -6.662      51.840\n",
      "sfdc_tier_Tier 1                                                           40.3526     14.461      2.790      0.005      12.008      68.697\n",
      "sfdc_tier_Tier 2                                                           60.2617     14.220      4.238      0.000      32.389      88.134\n",
      "poc_image_Mainstream                                                       34.4718     16.534      2.085      0.037       2.065      66.879\n",
      "poc_image_Premium                                                          23.4202     18.098      1.294      0.196     -12.053      58.893\n",
      "poc_image_zero                                                             65.3113     51.440      1.270      0.204     -35.514     166.137\n",
      "sub_segment_Bar                                                           -79.4422     18.516     -4.290      0.000    -115.735     -43.149\n",
      "sub_segment_Beer bar                                                      -91.1045     19.132     -4.762      0.000    -128.605     -53.604\n",
      "sub_segment_Cocktail Bar                                                  -42.0851     40.256     -1.045      0.296    -120.989      36.819\n",
      "sub_segment_Events                                                        -58.6270     25.320     -2.315      0.021    -108.257      -8.997\n",
      "sub_segment_Hybrid                                                         55.0819     18.984      2.901      0.004      17.871      92.293\n",
      "sub_segment_Institutional                                                  41.9530     21.414      1.959      0.050      -0.020      83.926\n",
      "sub_segment_Local Bar                                                    -255.4751    112.797     -2.265      0.024    -476.564     -34.386\n",
      "sub_segment_Music Venue                                                   370.8503     37.528      9.882      0.000     297.294     444.407\n",
      "sub_segment_Not applicable                                                -80.2229    148.795     -0.539      0.590    -371.869     211.423\n",
      "sub_segment_Party Place                                                    -1.5983     26.952     -0.059      0.953     -54.425      51.229\n",
      "sub_segment_Quick Dining                                                  146.5082     28.043      5.224      0.000      91.543     201.474\n",
      "sub_segment_Recreational                                                   39.5393     26.622      1.485      0.137     -12.641      91.720\n",
      "sub_segment_Restaurant                                                    -21.9752     19.811     -1.109      0.267     -60.805      16.855\n",
      "sub_segment_Sports Venue                                                  -32.4856     20.940     -1.551      0.121     -73.530       8.559\n",
      "sub_segment_Sub Agent                                                     132.2864    188.051      0.703      0.482    -236.304     500.877\n",
      "Product_Set_OW_BOTTLE_BELLE VUE_BELLE VUE GUEUZE                         -107.5525    440.291     -0.244      0.807    -970.548     755.443\n",
      "Product_Set_OW_BOTTLE_BIRRA DEL BORGO_BIRRA DEL BORGO CASTAGNALE          -55.2196    147.412     -0.375      0.708    -344.155     233.716\n",
      "Product_Set_OW_BOTTLE_CORONA_CORONA EXTRA                                 -27.6920     26.046     -1.063      0.288     -78.743      23.359\n",
      "Product_Set_OW_BOTTLE_CUBANISTO_CUBANISTO PHENOMENAL                       -2.7749    156.258     -0.018      0.986    -309.049     303.499\n",
      "Product_Set_OW_BOTTLE_CUBANISTO_CUBANISTO RUM                             -24.1773     35.886     -0.674      0.500     -94.517      46.162\n",
      "Product_Set_OW_BOTTLE_DEUS_DEUS                                           -30.1834    254.452     -0.119      0.906    -528.923     468.556\n",
      "Product_Set_OW_BOTTLE_GINETTE_ GINETTE LAGER                              -51.0765     67.171     -0.760      0.447    -182.736      80.583\n",
      "Product_Set_OW_BOTTLE_GINETTE_GINETTE BLANCHE                             -30.2580     62.781     -0.482      0.630    -153.312      92.796\n",
      "Product_Set_OW_BOTTLE_GINETTE_GINETTE BLONDE                              -20.9535     49.109     -0.427      0.670    -117.211      75.304\n",
      "Product_Set_OW_BOTTLE_GINETTE_GINETTE FRUIT                               -39.0117     52.850     -0.738      0.460    -142.601      64.578\n",
      "Product_Set_OW_BOTTLE_GINETTE_GINETTE TRIPEL                              -23.3005     43.825     -0.532      0.595    -109.200      62.599\n",
      "Product_Set_OW_BOTTLE_GOOSE ISLAND_GOOS 312                               -85.1579    254.546     -0.335      0.738    -584.083     413.767\n",
      "Product_Set_OW_BOTTLE_GOOSE ISLAND_GOOSE ISLAND IPA                       -61.5442     54.917     -1.121      0.262    -169.184      46.095\n",
      "Product_Set_OW_BOTTLE_JUPILER_JUPILER PILS                                -20.8094    311.577     -0.067      0.947    -631.519     589.900\n",
      "Product_Set_OW_BOTTLE_KWAK_KWAK                                            27.1114    440.257      0.062      0.951    -835.817     890.040\n",
      "Product_Set_OW_BOTTLE_LEFFE_LEFFE BLONDE                                  -23.9469    114.539     -0.209      0.834    -248.450     200.556\n",
      "Product_Set_OW_BOTTLE_LEFFE_LEFFE BRUNE                                   -68.6149    147.390     -0.466      0.642    -357.508     220.278\n",
      "Product_Set_OW_BOTTLE_LEFFE_LEFFE RITUEL 9░                               -32.7046    254.459     -0.129      0.898    -531.459     466.050\n",
      "Product_Set_OW_BOTTLE_LEFFE_LEFFE ROYALE                                  -82.0491    440.291     -0.186      0.852    -945.044     780.946\n",
      "Product_Set_OW_BOTTLE_LEFFE_LEFFE ROYALE CASCADE IPA                      -15.0173    254.563     -0.059      0.953    -513.976     483.941\n",
      "Product_Set_OW_BOTTLE_LEFFE_LEFFE ROYALE IPA                             -119.1984    440.251     -0.271      0.787    -982.115     743.719\n",
      "Product_Set_OW_BOTTLE_LEFFE_LEFFE RUBY                                    -49.2493    166.943     -0.295      0.768    -376.466     277.968\n",
      "Product_Set_OW_BOTTLE_LEFFE_LEFFE TRIPLE                                 -110.2747    220.517     -0.500      0.617    -542.500     321.950\n",
      "Product_Set_OW_BOTTLE_STELLA ARTOIS_STELLA ARTOIS REGULAR                  46.6683    110.975      0.421      0.674    -170.849     264.186\n",
      "Product_Set_OW_BOTTLE_TRIPEL KARMELIET_TRIPEL KARMELIET                   -40.1762    197.470     -0.203      0.839    -427.228     346.876\n",
      "Product_Set_OW_BULK_JUPILER_JUPILER PILS                                  569.6079    148.527      3.835      0.000     278.487     860.729\n",
      "Product_Set_OW_BULK_PURE BLONDE_PURE BLONDE REGULAR                      2129.9851    441.914      4.820      0.000    1263.808    2996.163\n",
      "Product_Set_OW_BULK_STELLA ARTOIS_STELLA ARTOIS REGULAR                  -137.0690    167.375     -0.819      0.413    -465.133     190.995\n",
      "Product_Set_OW_CAN_BELLE VUE_BELLE VUE EXTRA KRIEK                        -15.6005    139.884     -0.112      0.911    -289.781     258.580\n",
      "Product_Set_OW_CAN_BELLE VUE_BELLE VUE KRIEK CLASSIQUE                    -15.4387    440.625     -0.035      0.972    -879.089     848.212\n",
      "Product_Set_OW_CAN_CUBANISTO_CUBANISTO RUM                                321.7162    139.941      2.299      0.022      47.424     596.008\n",
      "Product_Set_OW_CAN_HOEGAARDEN_ HOEGAARDEN RADLER AGRUM 0,0                -29.4645    197.318     -0.149      0.881    -416.218     357.289\n",
      "Product_Set_OW_CAN_HOEGAARDEN_HOEG RADLER LEMON 0,0                       -30.5839    220.481     -0.139      0.890    -462.740     401.572\n",
      "Product_Set_OW_CAN_HOEGAARDEN_HOEGAARDEN 0,0                              -70.9032    114.530     -0.619      0.536    -295.388     153.582\n",
      "Product_Set_OW_CAN_HOEGAARDEN_HOEGAARDEN ROSE 0,0                         -82.3093    104.751     -0.786      0.432    -287.627     123.008\n",
      "Product_Set_OW_CAN_HOEGAARDEN_HOEGAARDEN ROSEE                            -45.6697     87.518     -0.522      0.602    -217.210     125.871\n",
      "Product_Set_OW_CAN_HOEGAARDEN_HOEGAARDEN WHITE                             -6.1497     79.145     -0.078      0.938    -161.278     148.979\n",
      "Product_Set_OW_CAN_JUPILER_JUPILER 0,0                                    -94.1853     40.322     -2.336      0.020    -173.219     -15.151\n",
      "Product_Set_OW_CAN_JUPILER_JUPILER BLUE                                   -96.3446    156.271     -0.617      0.538    -402.645     209.955\n",
      "Product_Set_OW_CAN_JUPILER_JUPILER PILS                                   297.1844     32.521      9.138      0.000     233.442     360.927\n",
      "Product_Set_OW_CAN_LEFFE_LEFFE BLONDE                                     104.0680     60.567      1.718      0.086     -14.646     222.782\n",
      "Product_Set_OW_CAN_LEFFE_LEFFE BRUNE                                       18.0537     84.416      0.214      0.831    -147.406     183.513\n",
      "Product_Set_OW_CAN_LEFFE_LEFFE RUBY                                       -55.2994    441.863     -0.125      0.900    -921.375     810.777\n",
      "Product_Set_OW_CAN_LEFFE_LEFFE SANS ALCOOL/ALCOHOLVRIJ                      7.8007    102.047      0.076      0.939    -192.216     207.818\n",
      "Product_Set_OW_CAN_PURE BLONDE_PURE BLONDE REGULAR                       -308.2426    311.913     -0.988      0.323    -919.610     303.125\n",
      "Product_Set_OW_CAN_STELLA ARTOIS_STELLA ARTOIS REGULAR                     28.0423     62.166      0.451      0.652     -93.807     149.891\n",
      "Product_Set_RETURNABLE_BOTTLE_BASS_BASS PALE ALE                            2.3862     32.992      0.072      0.942     -62.281      67.053\n",
      "Product_Set_RETURNABLE_BOTTLE_BECK'S_BECK'S REGULAR                       -27.4260    156.276     -0.175      0.861    -333.736     278.884\n",
      "Product_Set_RETURNABLE_BOTTLE_BELLE VUE_BELLE VUE EXTRA KRIEK             -13.1915     21.171     -0.623      0.533     -54.687      28.304\n",
      "Product_Set_RETURNABLE_BOTTLE_BELLE VUE_BELLE VUE GUEUZE                  -26.1790     26.651     -0.982      0.326     -78.416      26.058\n",
      "Product_Set_RETURNABLE_BOTTLE_BELLE VUE_BELLE VUE KRIEK CLASSIQUE         -19.0444     28.346     -0.672      0.502     -74.605      36.516\n",
      "Product_Set_RETURNABLE_BOTTLE_DIEKIRCH_DIEKIRCH GRAND CRU                 -65.1380    254.502     -0.256      0.798    -563.977     433.701\n",
      "Product_Set_RETURNABLE_BOTTLE_DIEKIRCH_DIEKIRCH PILS                      -55.1036    440.343     -0.125      0.900    -918.201     807.994\n",
      "Product_Set_RETURNABLE_BOTTLE_GINDER-ALE_GINDER-ALE                        -1.2171    122.917     -0.010      0.992    -242.141     239.707\n",
      "Product_Set_RETURNABLE_BOTTLE_HOEGAARDEN_HOEG RADLER LEMON 0,0            -36.2097     84.424     -0.429      0.668    -201.685     129.265\n",
      "Product_Set_RETURNABLE_BOTTLE_HOEGAARDEN_HOEGAARDEN 0,0                   -62.8956     65.133     -0.966      0.334    -190.560      64.769\n",
      "Product_Set_RETURNABLE_BOTTLE_HOEGAARDEN_HOEGAARDEN BEATRIX               -37.8345     39.391     -0.960      0.337    -115.044      39.375\n",
      "Product_Set_RETURNABLE_BOTTLE_HOEGAARDEN_HOEGAARDEN FORBIDDEN FRUIT       -35.2185     48.812     -0.722      0.471    -130.893      60.456\n",
      "Product_Set_RETURNABLE_BOTTLE_HOEGAARDEN_HOEGAARDEN GRAND CRU             -28.9529     38.501     -0.752      0.452    -104.417      46.511\n",
      "Product_Set_RETURNABLE_BOTTLE_HOEGAARDEN_HOEGAARDEN JULIUS                -30.5850     28.225     -1.084      0.279     -85.909      24.738\n",
      "Product_Set_RETURNABLE_BOTTLE_HOEGAARDEN_HOEGAARDEN ROSE 0,0              -40.7904     36.323     -1.123      0.261    -111.986      30.405\n",
      "Product_Set_RETURNABLE_BOTTLE_HOEGAARDEN_HOEGAARDEN ROSEE                 -30.4898     19.718     -1.546      0.122     -69.138       8.158\n",
      "Product_Set_RETURNABLE_BOTTLE_HOEGAARDEN_HOEGAARDEN WHITE                 -35.9852     18.208     -1.976      0.048     -71.674      -0.296\n",
      "Product_Set_RETURNABLE_BOTTLE_HOEGAARDEN_HOEGAARDEN YELLOW                -31.2892     29.825     -1.049      0.294     -89.748      27.170\n",
      "Product_Set_RETURNABLE_BOTTLE_HORSE ALE_HORSE ALE                           6.5157     71.128      0.092      0.927    -132.900     145.931\n",
      "Product_Set_RETURNABLE_BOTTLE_JUPILER_JUPILER 0,0                         -24.7922     17.559     -1.412      0.158     -59.209       9.625\n",
      "Product_Set_RETURNABLE_BOTTLE_JUPILER_JUPILER BLUE                        -19.9734     31.389     -0.636      0.525     -81.497      41.550\n",
      "Product_Set_RETURNABLE_BOTTLE_JUPILER_JUPILER PILS                        -10.9464     18.672     -0.586      0.558     -47.544      25.651\n",
      "Product_Set_RETURNABLE_BOTTLE_KRUGER_KRUGER EXPORT                          2.3253     48.619      0.048      0.962     -92.971      97.622\n",
      "Product_Set_RETURNABLE_BOTTLE_KWAK_KWAK                                   -41.5331     29.416     -1.412      0.158     -99.191      16.124\n",
      "Product_Set_RETURNABLE_BOTTLE_LEFFE_FLAVOURED ALCOHOLIC                   -29.2080     31.582     -0.925      0.355     -91.111      32.695\n",
      "Product_Set_RETURNABLE_BOTTLE_LEFFE_LEFF NECT                             -34.1931    156.274     -0.219      0.827    -340.499     272.113\n",
      "Product_Set_RETURNABLE_BOTTLE_LEFFE_LEFFE                                 -53.4727     43.308     -1.235      0.217    -138.360      31.414\n",
      "Product_Set_RETURNABLE_BOTTLE_LEFFE_LEFFE BLONDE                          -10.1728     18.356     -0.554      0.579     -46.152      25.807\n",
      "Product_Set_RETURNABLE_BOTTLE_LEFFE_LEFFE BRUNE                           -21.2186     18.314     -1.159      0.247     -57.115      14.678\n",
      "Product_Set_RETURNABLE_BOTTLE_LEFFE_LEFFE MIXED                           -38.2287    166.952     -0.229      0.819    -365.465     289.008\n",
      "Product_Set_RETURNABLE_BOTTLE_LEFFE_LEFFE RADIEUSE                        -32.2325     45.500     -0.708      0.479    -121.415      56.950\n",
      "Product_Set_RETURNABLE_BOTTLE_LEFFE_LEFFE RITUEL 9░                       -24.8750     45.294     -0.549      0.583    -113.654      63.904\n",
      "Product_Set_RETURNABLE_BOTTLE_LEFFE_LEFFE ROYALE                          -22.7229     34.709     -0.655      0.513     -90.754      45.308\n",
      "Product_Set_RETURNABLE_BOTTLE_LEFFE_LEFFE ROYALE CASCADE IPA               -5.1946     40.790     -0.127      0.899     -85.145      74.756\n",
      "Product_Set_RETURNABLE_BOTTLE_LEFFE_LEFFE ROYALE MAPUCHE                 -115.4276    440.261     -0.262      0.793    -978.365     747.510\n",
      "Product_Set_RETURNABLE_BOTTLE_LEFFE_LEFFE RUBY                            -29.6481     24.903     -1.191      0.234     -78.459      19.163\n",
      "Product_Set_RETURNABLE_BOTTLE_LEFFE_LEFFE SANS ALCOOL/ALCOHOLVRIJ         -28.2351     19.968     -1.414      0.157     -67.374      10.904\n",
      "Product_Set_RETURNABLE_BOTTLE_LEFFE_LEFFE TRIPLE                          -16.8361     42.383     -0.397      0.691     -99.908      66.236\n",
      "Product_Set_RETURNABLE_BOTTLE_PIEDBOEUF_PIEDBOEUF BLONDE                  386.1773     40.159      9.616      0.000     307.464     464.890\n",
      "Product_Set_RETURNABLE_BOTTLE_PIEDBOEUF_PIEDBOEUF FONCEE                   53.1939     25.639      2.075      0.038       2.940     103.448\n",
      "Product_Set_RETURNABLE_BOTTLE_PIEDBOEUF_PIEDBOEUF TRIPLE                    1.0140    133.684      0.008      0.994    -261.015     263.043\n",
      "Product_Set_RETURNABLE_BOTTLE_PURE BLONDE_PURE BLONDE REGULAR             -29.4266     26.664     -1.104      0.270     -81.690      22.836\n",
      "Product_Set_RETURNABLE_BOTTLE_SAFIR_SAFIR REGULAR                         -62.5103    156.288     -0.400      0.689    -368.845     243.824\n",
      "Product_Set_RETURNABLE_BOTTLE_SCOTCH CTS_SCOTCH CTS                       -33.9119     36.332     -0.933      0.351    -105.125      37.301\n",
      "Product_Set_RETURNABLE_BOTTLE_STELLA ARTOIS_STELLA ARTOIS REGULAR          28.4126     24.839      1.144      0.253     -20.273      77.099\n",
      "Product_Set_RETURNABLE_BOTTLE_TRIPEL KARMELIET_TRIPEL KARMELIET           -14.9799     19.197     -0.780      0.435     -52.607      22.647\n",
      "Product_Set_RETURNABLE_BOTTLE_VIEUX TEMPS_VIEUX TEMPS REGULAR             -21.6061     32.931     -0.656      0.512     -86.152      42.940\n",
      "Product_Set_RETURNABLE_KEG_BELLE VUE_BELLE VUE EXTRA KRIEK                  0.7732     48.610      0.016      0.987     -94.506      96.052\n",
      "Product_Set_RETURNABLE_KEG_CUBANISTO_CUBANISTO RUM                         27.8761    166.999      0.167      0.867    -299.451     355.203\n",
      "Product_Set_RETURNABLE_KEG_DIEKIRCH_DIEKIRCH PILS                        -948.8075    140.104     -6.772      0.000   -1223.420    -674.195\n",
      "Product_Set_RETURNABLE_KEG_DIEKIRCH_DIEKIRCH XMAS BEER                    -64.6297    254.483     -0.254      0.800    -563.431     434.172\n",
      "Product_Set_RETURNABLE_KEG_GINETTE_ GINETTE LAGER                         -26.7585     49.123     -0.545      0.586    -123.043      69.526\n",
      "Product_Set_RETURNABLE_KEG_GINETTE_GINETTE BLANCHE                      -2.221e-13   5.97e-13     -0.372      0.710   -1.39e-12    9.47e-13\n",
      "Product_Set_RETURNABLE_KEG_GINETTE_GINETTE FRUIT                         7.136e-14   5.58e-13      0.128      0.898   -1.02e-12    1.17e-12\n",
      "Product_Set_RETURNABLE_KEG_GOOSE ISLAND_GOOSE ISLAND IPA                  -52.1956     62.198     -0.839      0.401    -174.108      69.717\n",
      "Product_Set_RETURNABLE_KEG_GOOSE ISLAND_GOOSE ISLAND MIDWAY IPA          -113.6541    312.064     -0.364      0.716    -725.318     498.009\n",
      "Product_Set_RETURNABLE_KEG_HOEGAARDEN_HOEGAARDEN GRAND CRU                -50.5781     74.732     -0.677      0.499    -197.057      95.900\n",
      "Product_Set_RETURNABLE_KEG_HOEGAARDEN_HOEGAARDEN JULIUS                    10.1552     71.038      0.143      0.886    -129.083     149.393\n",
      "Product_Set_RETURNABLE_KEG_HOEGAARDEN_HOEGAARDEN ROSEE                     29.7789     29.657      1.004      0.315     -28.351      87.909\n",
      "Product_Set_RETURNABLE_KEG_HOEGAARDEN_HOEGAARDEN WHITE                    -40.5395     24.648     -1.645      0.100     -88.851       7.772\n",
      "Product_Set_RETURNABLE_KEG_JUPILER_JUPILER 0,0                            944.4566    221.309      4.268      0.000     510.678    1378.235\n",
      "Product_Set_RETURNABLE_KEG_JUPILER_JUPILER BLUE                            72.4983     74.950      0.967      0.333     -74.408     219.405\n",
      "Product_Set_RETURNABLE_KEG_JUPILER_JUPILER PILS                          -513.7169     21.125    -24.318      0.000    -555.123    -472.311\n",
      "Product_Set_RETURNABLE_KEG_KWAK_KWAK                                      -36.3836     63.894     -0.569      0.569    -161.620      88.853\n",
      "Product_Set_RETURNABLE_KEG_LEFFE_FLAVOURED ALCOHOLIC                       53.7480     37.630      1.428      0.153     -20.009     127.505\n",
      "Product_Set_RETURNABLE_KEG_LEFFE_LEFFE                                    -87.3446     56.426     -1.548      0.122    -197.942      23.253\n",
      "Product_Set_RETURNABLE_KEG_LEFFE_LEFFE BLONDE                             256.6751     21.122     12.152      0.000     215.275     298.075\n",
      "Product_Set_RETURNABLE_KEG_LEFFE_LEFFE BRUNE                              104.2797     28.509      3.658      0.000      48.400     160.159\n",
      "Product_Set_RETURNABLE_KEG_LEFFE_LEFFE ROYALE CASCADE IPA                  45.1499     92.889      0.486      0.627    -136.917     227.217\n",
      "Product_Set_RETURNABLE_KEG_LEFFE_LEFFE RUBY                                17.7729     39.718      0.447      0.655     -60.077      95.623\n",
      "Product_Set_RETURNABLE_KEG_PURE BLONDE_PURE BLONDE REGULAR                 37.7984     68.675      0.550      0.582     -96.809     172.406\n",
      "Product_Set_RETURNABLE_KEG_SAFIR_SAFIR REGULAR                           -209.4185    166.963     -1.254      0.210    -536.675     117.838\n",
      "Product_Set_RETURNABLE_KEG_SCOTCH CTS_SCOTCH CTS                         -102.1066     32.224     -3.169      0.002    -165.268     -38.945\n",
      "Product_Set_RETURNABLE_KEG_STELLA ARTOIS_STELLA ARTOIS REGULAR           -129.4000     23.128     -5.595      0.000    -174.733     -84.067\n",
      "Product_Set_RETURNABLE_KEG_TRIPEL KARMELIET_TRIPEL KARMELIET              -22.2980     26.532     -0.840      0.401     -74.302      29.706\n",
      "Product_Set_RETURNABLE_PERFECTDRAFT_HOEGAARDEN_HOEGAARDEN ROSEE           -42.2862     89.172     -0.474      0.635    -217.068     132.496\n",
      "Product_Set_RETURNABLE_PERFECTDRAFT_HOEGAARDEN_HOEGAARDEN WHITE           -38.3920     54.924     -0.699      0.485    -146.046      69.262\n",
      "Product_Set_RETURNABLE_PERFECTDRAFT_JUPILER_JUPILER PILS                   30.0670     65.876      0.456      0.648     -99.054     159.188\n",
      "Product_Set_RETURNABLE_PERFECTDRAFT_KWAK_KWAK                              -0.0044    180.230  -2.42e-05      1.000    -353.265     353.256\n",
      "Product_Set_RETURNABLE_PERFECTDRAFT_LEFFE_FLAVOURED ALCOHOLIC              -4.1746     87.490     -0.048      0.962    -175.659     167.310\n",
      "Product_Set_RETURNABLE_PERFECTDRAFT_LEFFE_LEFFE                            -2.7963    311.461     -0.009      0.993    -613.278     607.686\n",
      "Product_Set_RETURNABLE_PERFECTDRAFT_LEFFE_LEFFE BLONDE                     83.1851     50.675      1.642      0.101     -16.140     182.510\n",
      "Product_Set_RETURNABLE_PERFECTDRAFT_LEFFE_LEFFE BRUNE                      30.9862     65.118      0.476      0.634     -96.648     158.620\n",
      "Product_Set_RETURNABLE_PERFECTDRAFT_LEFFE_LEFFE RITUEL 9░                 -53.8172    254.452     -0.212      0.832    -552.557     444.923\n",
      "Product_Set_RETURNABLE_PERFECTDRAFT_LEFFE_LEFFE ROYALE                     17.4602    104.716      0.167      0.868    -187.790     222.710\n",
      "Product_Set_RETURNABLE_PERFECTDRAFT_LEFFE_LEFFE ROYALE CASCADE IPA         23.4404    311.512      0.075      0.940    -587.141     634.022\n",
      "Product_Set_RETURNABLE_PERFECTDRAFT_LEFFE_LEFFE RUBY                      -20.3223     77.934     -0.261      0.794    -173.078     132.433\n",
      "Product_Set_RETURNABLE_PERFECTDRAFT_STELLA ARTOIS_STELLA ARTOIS REGULAR   212.8158     84.463      2.520      0.012      47.264     378.367\n",
      "Product_Set_RETURNABLE_PERFECTDRAFT_TRIPEL KARMELIET_TRIPEL KARMELIET      60.7462     97.370      0.624      0.533    -130.104     251.597\n",
      "==============================================================================\n",
      "Omnibus:                    17860.349   Durbin-Watson:                   2.008\n",
      "Prob(Omnibus):                  0.000   Jarque-Bera (JB):          2601729.247\n",
      "Skew:                           2.442   Prob(JB):                         0.00\n",
      "Kurtosis:                      52.091   Cond. No.                     1.00e+16\n",
      "==============================================================================\n",
      "\n",
      "Notes:\n",
      "[1] Standard Errors assume that the covariance matrix of the errors is correctly specified.\n",
      "[2] The smallest eigenvalue is 3.18e-26. This might indicate that there are\n",
      "strong multicollinearity problems or that the design matrix is singular.\n"
     ]
    }
   ],
   "source": [
    "#Linear Regression Model (Model 1.1)\n",
    "model = sm.OLS(y_train,x_train).fit()\n",
    "print(model.summary())\n",
    "Y_pred1 = model.predict(x_train)\n",
    "YP1 = model.predict(x_test)"
   ]
  },
  {
   "cell_type": "code",
   "execution_count": 16,
   "metadata": {},
   "outputs": [],
   "source": [
    "#Random Forest Regression model (Model 1.2)\n",
    "from sklearn.ensemble import RandomForestRegressor\n",
    "regressor = RandomForestRegressor(n_estimators = 10, random_state = 0)\n",
    "regressor.fit(x_train, y_train)\n",
    "Y_pred2 = regressor.predict(x_train)\n",
    "YP2 = regressor.predict(x_test)"
   ]
  },
  {
   "cell_type": "code",
   "execution_count": 17,
   "metadata": {},
   "outputs": [],
   "source": [
    "#LASSO regression model (Model 1.3)\n",
    "model_3 = Lasso()\n",
    "model_3.fit(x_train, y_train)\n",
    "Y_pred3 = model_3.predict(x_train)\n",
    "YP3 = model_3.predict(x_test)"
   ]
  },
  {
   "cell_type": "code",
   "execution_count": 18,
   "metadata": {},
   "outputs": [],
   "source": [
    "#Ridge Regression model (Model 1.4)\n",
    "model_4 = Ridge()\n",
    "model_4.fit(x_train, y_train)\n",
    "Y_pred4 = model_4.predict(x_train)\n",
    "YP4 = model_4.predict(x_test)"
   ]
  },
  {
   "cell_type": "code",
   "execution_count": 19,
   "metadata": {},
   "outputs": [],
   "source": [
    "#Parametric Evaluation of Models \n",
    "#Method 1\n",
    "#training set\n",
    "mt00 = mse(y0_train, Y_pred00)\n",
    "mt01 = mse(y0_train, Y_pred01)\n",
    "mt02 = mse(y0_train, Y_pred02)\n",
    "mt03 = mse(y0_train, Y_pred03)\n",
    "rt00 = r2_score(y0_train, Y_pred00)\n",
    "rt01 = r2_score(y0_train, Y_pred01)\n",
    "rt02 = r2_score(y0_train, Y_pred01)\n",
    "rt03 = r2_score(y0_train, Y_pred03)\n",
    "#test set\n",
    "mtt00 = mse(y0_test, YP00)\n",
    "mtt01 = mse(y0_test, YP01)\n",
    "mtt02 = mse(y0_test, YP02)\n",
    "mtt03 = mse(y0_test, YP03)\n",
    "rtt00 = r2_score(y0_test, YP00)\n",
    "rtt01 = r2_score(y0_test, YP01)\n",
    "rtt02 = r2_score(y0_test, YP01)\n",
    "rtt03 = r2_score(y0_test, YP03)"
   ]
  },
  {
   "cell_type": "code",
   "execution_count": 20,
   "metadata": {},
   "outputs": [],
   "source": [
    "#Method 2\n",
    "#training set\n",
    "mt1 = mse(y_train, Y_pred1)\n",
    "mt2 = mse(y_train, Y_pred2)\n",
    "mt3 = mse(y_train, Y_pred3)\n",
    "mt4 = mse(y_train, Y_pred4)\n",
    "rt1= r2_score(y_train, Y_pred1)\n",
    "rt2 = r2_score(y_train, Y_pred2)\n",
    "rt3 = r2_score(y_train, Y_pred3)\n",
    "rt4 = r2_score(y_train, Y_pred4)\n",
    "#test set\n",
    "mtt1 = mse(y_test, YP1)\n",
    "mtt2 = mse(y_test, YP2)\n",
    "mtt3 = mse(y_test, YP3)\n",
    "mtt4 = mse(y_test, YP4)\n",
    "rtt1 = r2_score(y_test, YP1)\n",
    "rtt2 = r2_score(y_test, YP2)\n",
    "rtt3 = r2_score(y_test, YP3)\n",
    "rtt4 = r2_score(y_test, YP4)"
   ]
  },
  {
   "cell_type": "code",
   "execution_count": 21,
   "metadata": {},
   "outputs": [
    {
     "name": "stdout",
     "output_type": "stream",
     "text": [
      "[204234.95350130738, 56780.61814935907, 204762.94159330617, 204235.27460569973, 0.6916183510079383, 0.9142649171676882, 0.9142649171676882, 0.6916178661609504, 189124.13778200286, 218445.49964606555, 189964.3720176113, 189123.88802340976, 0.717372442799774, 0.673554530530024, 0.673554530530024, 0.717372816039604, 195333.39518057054, 41541.3584763042, 197545.02856682107, 195390.21965920104, 0.7050591317679773, 0.9372752195024685, 0.701719707546386, 0.7049733304586383, 191097.06947535963, 180836.51743231775, 192296.5223701002, 190985.5298719762, 0.7144240890277184, 0.7297574821813377, 0.7126316237951311, 0.714590774073874]\n"
     ]
    }
   ],
   "source": [
    "print([mt00, mt01, mt02, mt03, rt00, rt01, rt02, rt03,\n",
    "      mtt00, mtt01, mtt02, mtt03, rtt00, rtt01, rtt02, rtt03,\n",
    "      mt1, mt2, mt3, mt4, rt1, rt2, rt3, rt4,\n",
    "      mtt1, mtt2, mtt3, mtt4, rtt1, rtt2, rtt3, rtt4])"
   ]
  },
  {
   "cell_type": "code",
   "execution_count": 22,
   "metadata": {},
   "outputs": [
    {
     "name": "stdout",
     "output_type": "stream",
     "text": [
      "<class 'pandas.core.frame.DataFrame'>\n",
      "Int64Index: 7189 entries, 998 to 39505\n",
      "Columns: 157 entries, Volume_2019_Product to Product_Set_RETURNABLE_PERFECTDRAFT_TRIPEL KARMELIET_TRIPEL KARMELIET\n",
      "dtypes: float64(1), uint8(156)\n",
      "memory usage: 1.2 MB\n"
     ]
    }
   ],
   "source": [
    "# #Feature Engineering new data to fit into champion  models (Random Forest regression model under Method 2)\n",
    "xt = Test_Set[['sfdc_tier', 'poc_image', 'sub_segment','Product_Set','Volume_2019_Product']]\n",
    "dummies2 = pd.get_dummies(xt[['sfdc_tier', 'poc_image', 'sub_segment', 'Product_Set']])\n",
    "xt_1 = Test_Set['Volume_2019_Product']\n",
    "xt = pd.concat([xt_1, dummies2], axis=1)\n",
    "xt.info()\n",
    "xtt = pd.DataFrame(data = xt, columns = X.columns)\n",
    "x_test = xtt.fillna(0)\n",
    "\n",
    "test_pred = regressor.predict(x_test)"
   ]
  },
  {
   "cell_type": "code",
   "execution_count": 23,
   "metadata": {},
   "outputs": [],
   "source": [
    "#Consolidating the predictions for Total Discount \n",
    "Discount_Predictions = regressor.predict(X)\n",
    "data['Discount_Predictions'] = pd.Series(Discount_Predictions, index=data.index)\n",
    "Test_Set['Discount_Predictions'] = pd.Series(test_pred, index = Test_Set.index)\n",
    "Output = pd.concat([data, Test_Set])"
   ]
  },
  {
   "cell_type": "code",
   "execution_count": 24,
   "metadata": {},
   "outputs": [],
   "source": [
    "#Treatment of off-invoice\n",
    "off_invoice = Output['OffInvoice Discount(LCU)']\n",
    "X2 = Output[['Volume_2019_Product', 'Discount_Total']]\n",
    "X2_predict = Output[['Volume_2019_Product', 'Discount_Predictions']]\n",
    "#Random Forest Regression model\n",
    "regressor2 = RandomForestRegressor(n_estimators = 10, random_state = 0)\n",
    "regressor2.fit(X2, off_invoice)\n",
    "predict2 = regressor2.predict(X2_predict)\n",
    "Output['Offinvoice discount_pred'] = pd.Series(predict2, index = Output.index)\n",
    "Output.to_csv('Output.csv', header=True, index=False)"
   ]
  }
 ],
 "metadata": {
  "kernelspec": {
   "display_name": "Python 3",
   "language": "python",
   "name": "python3"
  },
  "language_info": {
   "codemirror_mode": {
    "name": "ipython",
    "version": 3
   },
   "file_extension": ".py",
   "mimetype": "text/x-python",
   "name": "python",
   "nbconvert_exporter": "python",
   "pygments_lexer": "ipython3",
   "version": "3.8.5"
  }
 },
 "nbformat": 4,
 "nbformat_minor": 4
}
